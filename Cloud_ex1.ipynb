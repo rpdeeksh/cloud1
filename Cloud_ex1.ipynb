{
  "nbformat": 4,
  "nbformat_minor": 0,
  "metadata": {
    "colab": {
      "provenance": []
    },
    "kernelspec": {
      "name": "python3",
      "display_name": "Python 3"
    },
    "language_info": {
      "name": "python"
    }
  },
  "cells": [
    {
      "cell_type": "code",
      "execution_count": 7,
      "metadata": {
        "colab": {
          "base_uri": "https://localhost:8080/",
          "height": 467
        },
        "id": "ZWSJzLrYT0zv",
        "outputId": "191be78e-f76f-4a08-9f90-63f21d5eab27"
      },
      "outputs": [
        {
          "output_type": "stream",
          "name": "stdout",
          "text": [
            "[124.35714286]\n"
          ]
        },
        {
          "output_type": "display_data",
          "data": {
            "text/plain": [
              "<Figure size 640x480 with 1 Axes>"
            ],
            "image/png": "[encoded data removed]"
          },
          "metadata": {}
        }
      ],
      "source": [
        "import matplotlib\n",
        "import matplotlib.pyplot as plt\n",
        "import numpy as np\n",
        "import pandas as pd\n",
        "import sklearn\n",
        "from sklearn import linear_model\n",
        "height=[[4.0],[5.0],[6.0],[7.0],[8.0],[9.0],[10.0]]\n",
        "weight=[  16, 25 , 36, 49, 64, 81, 102]\n",
        "plt.scatter(height,weight,color='black')\n",
        "plt.xlabel(\"height\")\n",
        "plt.ylabel(\"weight\")\n",
        "reg=linear_model.LinearRegression()\n",
        "reg.fit(height,weight)\n",
        "X_height=[[12.0]]\n",
        "print(reg.predict(X_height))"
      ]
    },
    {
      "cell_type": "code",
      "source": [
        "#import modules\n",
        "import warnings\n",
        "import pandas as pd\n",
        "from sklearn import model_selection\n",
        "import numpy as np\n",
        "import sklearn\n",
        "from sklearn import linear_model\n",
        "X=[[4.0],[5.0],[6.0],[7.0],[8.0],[9.0],[10.0]]\n",
        "y=[  8, 10 , 12, 14, 16, 18, 20]\n",
        "X_train, X_test, y_train, y_test = model_selection.train_test_split(X, y, test_size=0.3, random_state=7)\n",
        "print(\"Training Features\", X_train);print(\"Training Labels\",y_train);print(\"Training Data\",X_test);print(\"Testing Data\",y_test)\n",
        "reg=linear_model.LinearRegression()\n",
        "reg.fit(X_train,y_train)\n",
        "#accuracy on test set\n",
        "result = reg.score(X_test, y_test)\n",
        "print(\"Accuracy - test set: %.2f%%\" % (result*100.0))\n",
        "X_height=[[12.0]]\n",
        "print(reg.predict(X_test))"
      ],
      "metadata": {
        "colab": {
          "base_uri": "https://localhost:8080/"
        },
        "id": "TBRgnrAdT6Em",
        "outputId": "a2687aae-d49e-49cf-ff1d-9790e7c4044f"
      },
      "execution_count": 3,
      "outputs": [
        {
          "output_type": "stream",
          "name": "stdout",
          "text": [
            "Training Features [[10.0], [7.0], [5.0], [8.0]]\n",
            "Training Labels [20, 14, 10, 16]\n",
            "Training Data [[6.0], [9.0], [4.0]]\n",
            "Testing Data [12, 18, 8]\n",
            "Accuracy - test set: 100.00%\n",
            "[12. 18.  8.]\n"
          ]
        }
      ]
    },
    {
      "cell_type": "code",
      "source": [
        "import pandas as pd\n",
        "x=[[4.0],[5.0],[6.0],[7.0],[8.0],[9.0],[10.0]]\n",
        "y=[  16, 25 , 36, 49,64,81, 100]\n",
        "# Step 2 - Fitting Linear Regression\n",
        "from sklearn.linear_model import LinearRegression\n",
        "lin_reg = LinearRegression()\n",
        "lin_reg.fit(x,y)\n",
        "\n",
        "# Step 4 Linear Regression prediction\n",
        "print(lin_reg.predict([[11]]))\n",
        "from sklearn.pipeline import make_pipeline\n",
        "from sklearn.preprocessing import PolynomialFeatures\n",
        "\n",
        "polynomial_regression = make_pipeline(\n",
        "    PolynomialFeatures(degree=1, include_bias=False),\n",
        "    LinearRegression(),\n",
        ")\n",
        "polynomial_regression.fit(x,y)\n",
        "X_height=[[20.0]]\n",
        "target_predicted = polynomial_regression.predict(X_height)\n",
        "print(target_predicted)"
      ],
      "metadata": {
        "colab": {
          "base_uri": "https://localhost:8080/"
        },
        "id": "BBCAe-FyT8sY",
        "outputId": "8b6beb5f-0025-4bba-a7b5-69fa01ab402b"
      },
      "execution_count": 4,
      "outputs": [
        {
          "output_type": "stream",
          "name": "stdout",
          "text": [
            "[109.]\n",
            "[235.]\n"
          ]
        }
      ]
    }
  ]
}